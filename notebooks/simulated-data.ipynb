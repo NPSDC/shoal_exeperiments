{
 "cells": [
  {
   "cell_type": "code",
   "execution_count": null,
   "metadata": {},
   "outputs": [],
   "source": [
    "import pandas as pd\n",
    "import seaborn as sns\n",
    "import numpy as np\n",
    "import matplotlib.pyplot as plt\n",
    "import yaml\n",
    "from scipy.stats import spearmanr\n",
    "from sklearn.metrics import precision_recall_curve, roc_curve, average_precision_score, roc_auc_score\n",
    "from os.path import join\n",
    "\n",
    "%matplotlib inline"
   ]
  },
  {
   "cell_type": "code",
   "execution_count": null,
   "metadata": {},
   "outputs": [],
   "source": [
    "perp_fp_fmt = '../simulated-lung-data/output/lung-simulated/perplexity/{sample}/vbprior={vb_prior}/beta=1e-8/{fold}/perplexity.yml'\n",
    "pred_tpm_fmt = '../simulated-lung-data/output/lung-simulated/quants/{sample}/vbprior={vb_prior}/{fold}/quant.sf'\n",
    "de_results_fmt = '../simulated-lung-data/output/lung-simulated/de/vbprior={vbprior}/k={k}_swish_results.tsv'\n",
    "\n",
    "lung_data_dir = '/fs/cbcb-lab/rob/students/jason/perplexity-wabi-backup/lung-simulated-data/'\n",
    "true_tpm_fmt = join(lung_data_dir, 'ground_truths/{sample}.sf')\n",
    "down_reg_txs_path = join(lung_data_dir, 'ground_truths/down.txt')\n",
    "up_reg_txs_path = join(lung_data_dir, 'ground_truths/up.txt')"
   ]
  },
  {
   "cell_type": "code",
   "execution_count": null,
   "metadata": {},
   "outputs": [],
   "source": [
    "SAMPLES = [\n",
    "    'SRR1265495',\n",
    "    'SRR1265496',\n",
    "    'SRR1265497',\n",
    "    'SRR1265498',\n",
    "    'SRR1265499',\n",
    "    'SRR1265500',\n",
    "    'SRR1265501',\n",
    "    'SRR1265502',\n",
    "    'SRR1265503',\n",
    "    'SRR1265504',]\n",
    "VB_PRIORS = '1e-2 1 2 3 4 5 6 7 8 9 10'.split()"
   ]
  },
  {
   "cell_type": "code",
   "execution_count": null,
   "metadata": {},
   "outputs": [],
   "source": [
    "def mask_zero_corr_plot(sample, vb_priors, folds):\n",
    "    true_tpm_fp = true_tpm_fmt.format(sample=sample)\n",
    "    true_tpm = pd.read_csv(true_tpm_fp, sep='\\t').TPM.values\n",
    "\n",
    "    mask = true_tpm > 0\n",
    "    df = pd.DataFrame()\n",
    "    for vb_prior in vb_priors:\n",
    "        #folds_rhos = []\n",
    "        for fold in range(1, folds + 1):\n",
    "            with open(perp_fp_fmt.format(sample=sample, vb_prior=vb_prior, fold=fold), 'r') as f:\n",
    "                perp_result = yaml.safe_load(f)\n",
    "            pred_tpm_fp = pred_tpm_fmt.format(sample=sample, fold=fold, vb_prior=vb_prior)\n",
    "\n",
    "            pred_tpm = pd.read_csv(pred_tpm_fp, sep='\\t').TPM.values\n",
    "            true_tpm_masked = true_tpm[mask]\n",
    "            pred_tpm_masked = pred_tpm[mask]\n",
    "            \n",
    "            rho, p = spearmanr(true_tpm_masked, pred_tpm_masked)\n",
    "            auroc = roc_auc_score(true_tpm == 0 , -pred_tpm)\n",
    "            _vb_prior = float(vb_prior)\n",
    "            df = df.append(dict(spearman = rho,\n",
    "                                auroc=auroc,\n",
    "                                perplexity=perp_result['smoothed_perplexity'],\n",
    "                                vb_prior=_vb_prior, log_vb_prior = np.log10(_vb_prior),\n",
    "                                fold=fold), \n",
    "                           ignore_index=True)\n",
    "    \n",
    "    fig, ax = plt.subplots(1, 3, figsize=(20, 5))\n",
    "    title_fs=20\n",
    "    ax_fs=16\n",
    "    ax[0].set_title(sample + \" Spearman Corr.\", fontsize=title_fs)\n",
    "    ax[0].set_ylabel('Spearman Correlation', fontsize=ax_fs)\n",
    "    ax[1].set_title(sample + \" Perplexity\", fontsize=title_fs)\n",
    "    ax[1].set_ylabel('Perplexity', fontsize=ax_fs)\n",
    "    ax[2].set_title(sample + \" AUROC\", fontsize=title_fs)\n",
    "    ax[2].set_ylabel('AUROC', fontsize=ax_fs)\n",
    "    \n",
    "    for a in ax:\n",
    "        a.set_xlabel('VBEM prior size', fontsize=ax_fs)\n",
    "        a.tick_params(axis='both', which='major', labelsize=14)\n",
    "\n",
    "    \n",
    "    sns.lineplot(x=\"vb_prior\", y=\"spearman\", data=df, ax=ax[0])\n",
    "    sns.lineplot(x=\"vb_prior\", y=\"perplexity\", data=df, ax=ax[1], units=\"fold\", estimator=None, color='#AAAAAA')\n",
    "    sns.lineplot(x=\"vb_prior\", y=\"perplexity\", data=df, ax=ax[1], err_style=None, lw=3, color=\"red\")\n",
    "    sns.lineplot(x=\"vb_prior\", y=\"auroc\", data=df, ax=ax[2])\n",
    "\n",
    "    plt.show()\n",
    "    \n",
    "    \n",
    "    return ax\n",
    "df = mask_zero_corr_plot('SRR1265495', VB_PRIORS, 5)\n"
   ]
  },
  {
   "cell_type": "code",
   "execution_count": null,
   "metadata": {},
   "outputs": [],
   "source": [
    "for sample in SAMPLES:\n",
    "    df = mask_zero_corr_plot(sample, VB_PRIORS, 5)"
   ]
  },
  {
   "cell_type": "markdown",
   "metadata": {},
   "source": [
    "## DE results\n",
    "\n",
    "Note: Some pre-processing is required. Provided 'up/down' regulated txs in `{up, down}.tsv` are simply sampled from the reference and may not be expressed in at least one sample. We pre-process and only say that a tx is DE if it is expressed in at least one sample in `SRR...495-499`."
   ]
  },
  {
   "cell_type": "code",
   "execution_count": null,
   "metadata": {},
   "outputs": [],
   "source": [
    "down_reg_txs = pd.read_csv(down_reg_txs_path, header=None)[0].values\n",
    "up_reg_txs = pd.read_csv(up_reg_txs_path, header=None)[0].values"
   ]
  },
  {
   "cell_type": "code",
   "execution_count": null,
   "metadata": {},
   "outputs": [],
   "source": [
    "# pd.read_csv(de_results_fmt.format(vbprior='1', k=1), sep='\\t')"
   ]
  },
  {
   "cell_type": "code",
   "execution_count": null,
   "metadata": {},
   "outputs": [],
   "source": [
    "# An example of an abundance estimate in salmon format\n",
    "sf_fp = true_tpm_fmt.format(sample='SRR1265504')\n",
    "sf_df = pd.read_csv(sf_fp, sep='\\t').set_index('Name')\n",
    "sf_df"
   ]
  },
  {
   "cell_type": "code",
   "execution_count": null,
   "metadata": {},
   "outputs": [],
   "source": [
    "# df = pd.read_csv(de_results_fmt.format(vbprior=VB_PRIORS[0], k=1), sep='\\t')\n",
    "# df.index = df.index.rename('Name')\n",
    "# df"
   ]
  },
  {
   "cell_type": "code",
   "execution_count": null,
   "metadata": {},
   "outputs": [],
   "source": [
    "fc_txs = set(down_reg_txs) | set(up_reg_txs)\n",
    "\n",
    "txs = set()\n",
    "\n",
    "is_expressed = np.zeros(len(sf_df.index.values), dtype=bool)\n",
    "for s in SAMPLES:\n",
    "    tpms_df = pd.read_csv(true_tpm_fmt.format(sample=s), sep='\\t')\n",
    "    is_expressed |= tpms_df['NumReads'].values > 0\n"
   ]
  },
  {
   "cell_type": "code",
   "execution_count": null,
   "metadata": {},
   "outputs": [],
   "source": [
    "is_expressed.sum() / len(is_expressed)"
   ]
  },
  {
   "cell_type": "code",
   "execution_count": null,
   "metadata": {},
   "outputs": [],
   "source": [
    "expressed_txs = set(sf_df.index.values[is_expressed])\n",
    "fc_txs = set(down_reg_txs) | set(up_reg_txs)\n",
    "print(len(fc_txs))\n",
    "fc_txs = fc_txs & expressed_txs\n",
    "print(len(fc_txs))"
   ]
  },
  {
   "cell_type": "code",
   "execution_count": null,
   "metadata": {},
   "outputs": [],
   "source": [
    "def roc_score(vbprior, ks, max_fpr=1):\n",
    "    scores = []\n",
    "    for k in range(1, ks+1):\n",
    "        res_df = pd.read_csv(de_results_fmt.format(vbprior=vbprior, k=k), sep='\\t')\n",
    "        res_df.index = res_df.index.rename('Name')\n",
    "        res_df.qvalue = res_df.qvalue.fillna(1.)\n",
    "        res_df.pvalue = res_df.pvalue.fillna(1.)\n",
    "        res_df['label'] = res_df.index.isin(fc_txs)\n",
    "        score = roc_auc_score(res_df['label'], -res_df.qvalue, max_fpr=max_fpr)\n",
    "        scores.append(score)\n",
    "#         plt.plot((res_df['label'], -res_df.padj))\n",
    "        \n",
    "    return np.mean(score)\n",
    "\n",
    "def roc_score_fold(vbprior, fold, max_fpr=1):\n",
    "    res_df = pd.read_csv(de_results_fmt.format(vbprior=vbprior, k=fold), sep='\\t')\n",
    "    res_df.index = res_df.index.rename('Name')\n",
    "    res_df.qvalue = res_df.qvalue.fillna(1.)\n",
    "    res_df.pvalue = res_df.pvalue.fillna(1.)\n",
    "    res_df['label'] = res_df.index.isin(fc_txs)\n",
    "    score = roc_auc_score(res_df['label'], -res_df.qvalue, max_fpr=max_fpr)\n",
    "    return score\n",
    "\n",
    "# de_res = pd.DataFrame()\n",
    "# for vbprior in VB_PRIORS:\n",
    "#     roc=roc_score(vbprior,5)\n",
    "#     de_res= de_res.append(dict(vb_prior=vbprior, AUROC=roc), ignore_index=True)\n",
    "roc_score_fold(VB_PRIORS[0], fold=5)"
   ]
  },
  {
   "cell_type": "code",
   "execution_count": null,
   "metadata": {},
   "outputs": [],
   "source": [
    "de_res = pd.DataFrame()\n",
    "for max_fpr in [0.01, 0.05, 0.1, 0.2, 1.0]:\n",
    "    for fold in range(1, 6):\n",
    "        for vbprior in VB_PRIORS:\n",
    "            de_res = de_res.append(dict(vb_prior=vbprior, \n",
    "                                        AUROC=roc_score_fold(vbprior, fold, max_fpr=max_fpr),\n",
    "                                        max_fpr=max_fpr), \n",
    "                                   ignore_index=True)"
   ]
  },
  {
   "cell_type": "code",
   "execution_count": null,
   "metadata": {},
   "outputs": [],
   "source": [
    "de_res"
   ]
  },
  {
   "cell_type": "code",
   "execution_count": null,
   "metadata": {},
   "outputs": [],
   "source": [
    "for max_fpr in [0.01, 0.05, 0.1, 0.2, 1.0]:\n",
    "    fig, ax = plt.subplots(1, 1, figsize=(10, 8))\n",
    "    ax = sns.boxplot(data=de_res[de_res.max_fpr == max_fpr], y=\"AUROC\", x='vb_prior', palette=\"Blues_d\")\n",
    "    ax.set_title(\"Quality of DE calls (AUROC for FPR < {})\".format(str(max_fpr)), fontsize=20)\n",
    "    \n",
    "    ax.set_ylabel('AUROC', fontsize=20)\n",
    "    ax.set_xlabel('VBEM prior size', fontsize=20)\n",
    "    ax.tick_params(axis='both', which='major', labelsize=15)\n",
    "    plt.show()"
   ]
  },
  {
   "cell_type": "code",
   "execution_count": null,
   "metadata": {},
   "outputs": [],
   "source": [
    "def plot_roc(vbprior, k, ax, fpr_thresh=1, **kwargs):\n",
    "    res_df = pd.read_csv(de_results_fmt.format(vbprior=vbprior, k=k), sep='\\t')\n",
    "    res_df.index = res_df.index.rename('Name')\n",
    "    res_df.qvalue = res_df.qvalue.fillna(1.)\n",
    "    res_df.pvalue = res_df.pvalue.fillna(1.)\n",
    "    res_df['label'] = res_df.index.isin(fc_txs)\n",
    "    res_df['label'] = res_df.index.isin(fc_txs)\n",
    "\n",
    "    fpr, tpr, _ = roc_curve(res_df['label'], -res_df.qvalue) \n",
    "    flags = fpr < fpr_thresh\n",
    "    fpr = fpr[flags]\n",
    "    tpr = tpr[flags]\n",
    "    ax.set_title('ROC curves for DE calls', fontsize=20)\n",
    "    ax.set_xlabel('FPR', fontsize=20)\n",
    "    ax.set_ylabel('TPR', fontsize=20)\n",
    "    ax.tick_params(axis='both', which='major', labelsize=15)\n",
    "    ax.plot(fpr, tpr, label=float(vbprior), **kwargs)"
   ]
  },
  {
   "cell_type": "code",
   "execution_count": null,
   "metadata": {},
   "outputs": [],
   "source": [
    "plt.rcParams['image.cmap'] = 'inferno'\n",
    "\n",
    "for t in [0.01, 0.05, 0.1, 0.2, 1]:\n",
    "    fig, ax = plt.subplots(1, 1, figsize=(10, 8))\n",
    "    for vbprior in '1e-2 1 2 10'.split():\n",
    "        if vbprior == '2':\n",
    "            plot_roc(vbprior, 1, ax, fpr_thresh=t, c='red', lw=3, )\n",
    "        else:\n",
    "            plot_roc(vbprior, 1, ax, fpr_thresh=t,  lw=3,)\n",
    "    plt.legend(fontsize=16)\n",
    "    plt.show()\n",
    "\n"
   ]
  },
  {
   "cell_type": "code",
   "execution_count": null,
   "metadata": {},
   "outputs": [],
   "source": []
  },
  {
   "cell_type": "code",
   "execution_count": null,
   "metadata": {},
   "outputs": [],
   "source": []
  }
 ],
 "metadata": {
  "kernelspec": {
   "display_name": "Python 3",
   "language": "python",
   "name": "python3"
  },
  "language_info": {
   "codemirror_mode": {
    "name": "ipython",
    "version": 3
   },
   "file_extension": ".py",
   "mimetype": "text/x-python",
   "name": "python",
   "nbconvert_exporter": "python",
   "pygments_lexer": "ipython3",
   "version": "3.7.8"
  }
 },
 "nbformat": 4,
 "nbformat_minor": 4
}
