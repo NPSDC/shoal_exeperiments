{
 "cells": [
  {
   "cell_type": "code",
   "execution_count": null,
   "metadata": {},
   "outputs": [],
   "source": [
    "import pandas as pd\n",
    "import seaborn as sns\n",
    "import numpy as np\n",
    "import matplotlib.pyplot as plt\n",
    "import yaml\n",
    "from scipy.stats import spearmanr, pearsonr\n",
    "from sklearn.metrics import precision_recall_curve, roc_curve, average_precision_score, roc_auc_score\n",
    "\n",
    "%matplotlib inline"
   ]
  },
  {
   "cell_type": "code",
   "execution_count": null,
   "metadata": {},
   "outputs": [],
   "source": [
    "perp_fp_fmt = '../../output/seqc-bgi/perplexity_tpm/{sample}/vbprior={vb_prior}/beta={beta}/{fold}/perplexity_tpm.yml'\n",
    "VB_PRIORS = '1e-6 1e-5 1e-4 1e-3 1e-2 1e-1 1e0 2 3 4 5 6 7 8 9 1e1'.split()\n",
    "def perplexity_plot(sample, vb_priors, beta, folds):\n",
    "    df = pd.DataFrame()\n",
    "    for vb_prior in vb_priors:\n",
    "        #folds_rhos = []\n",
    "        for fold in range(1, folds + 1):\n",
    "            with open(perp_fp_fmt.format(sample=sample, vb_prior=vb_prior, beta=beta, fold=fold), 'r') as f:\n",
    "                perp_result = yaml.safe_load(f)\n",
    "            #folds_rhos.append(rho)\n",
    "            _vb_prior = float(vb_prior)\n",
    "            df = df.append(dict(perplexity=np.exp2(-perp_result['smoothed_perplexity']),\n",
    "                                vb_prior=_vb_prior, log_vb_prior = np.log10(_vb_prior),\n",
    "                                fold=fold), \n",
    "                           ignore_index=True)\n",
    "    \n",
    "    fig, ax = plt.subplots(1, 1, figsize=(10, 7))\n",
    "    ax.set_title(r'Sample {}{} ($\\beta$={})'.format(sample[-3], sample[-1], beta), fontsize=20)\n",
    "    sns.lineplot(x=\"log_vb_prior\", y=\"perplexity\", data=df, ax=ax, units=\"fold\", estimator=None, color='#AAAAAA')\n",
    "    sns.lineplot(x=\"log_vb_prior\", y=\"perplexity\", data=df, ax=ax, err_style=None, lw=3, color=\"red\")\n",
    "    \n",
    "    ax.set_ylabel('Perplexity', fontsize=20)\n",
    "    ax.set_xlabel('Log VBEM prior size', fontsize=20)\n",
    "    ax.tick_params(axis='both', which='major', labelsize=15)\n",
    "\n",
    "#     plt.ticklabel_format(axis=\"x\", style=\"sci\", scilimits=(0,0))\n",
    "\n",
    "    plt.show()\n",
    "    \n",
    "    return ax\n",
    "\n",
    "perplexity_plot('BGI_FC1_A_1', VB_PRIORS, '1e-8', 5)"
   ]
  },
  {
   "cell_type": "code",
   "execution_count": null,
   "metadata": {},
   "outputs": [],
   "source": [
    "perplexity_plot('BGI_FC1_A_1', VB_PRIORS, '1e-9', 5)\n",
    "perplexity_plot('BGI_FC1_A_1', VB_PRIORS, '1e-8', 5)\n",
    "perplexity_plot('BGI_FC1_A_1', VB_PRIORS, '1e-7', 5)\n",
    "perplexity_plot('BGI_FC1_A_1', VB_PRIORS, '1e-6', 5)\n"
   ]
  },
  {
   "cell_type": "code",
   "execution_count": null,
   "metadata": {},
   "outputs": [],
   "source": []
  }
 ],
 "metadata": {
  "kernelspec": {
   "display_name": "Python 3",
   "language": "python",
   "name": "python3"
  },
  "language_info": {
   "codemirror_mode": {
    "name": "ipython",
    "version": 3
   },
   "file_extension": ".py",
   "mimetype": "text/x-python",
   "name": "python",
   "nbconvert_exporter": "python",
   "pygments_lexer": "ipython3",
   "version": "3.7.8"
  }
 },
 "nbformat": 4,
 "nbformat_minor": 4
}
